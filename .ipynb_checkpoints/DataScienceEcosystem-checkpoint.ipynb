{
 "cells": [
  {
   "cell_type": "markdown",
   "id": "a6d191f9-1ce5-4b96-a97b-3f6d866c3bd3",
   "metadata": {},
   "source": [
    "## Data Science Tools and Ecosystem"
   ]
  },
  {
   "cell_type": "markdown",
   "id": "9524a215-737c-4135-b88c-5b04b8b5dfed",
   "metadata": {},
   "source": [
    "### In this notebook, Data Science Tools and Ecosystems are summarized."
   ]
  },
  {
   "cell_type": "markdown",
   "id": "13278f74-d6c1-4283-a59d-8a7ff5fd2887",
   "metadata": {},
   "source": [
    "### In this notebook, Data Science Tools and Ecosystems are summarized."
   ]
  },
  {
   "cell_type": "markdown",
   "id": "5c21e219-4b7c-4ccd-aa6c-cc59a188da61",
   "metadata": {},
   "source": [
    "### Some of the popular languages that Data Scientists use are:\n",
    "1. Python\n",
    "2. R\n",
    "3. Scala"
   ]
  },
  {
   "cell_type": "markdown",
   "id": "0442b47e-c82e-4ecb-b7a3-b8c930a6f226",
   "metadata": {},
   "source": [
    "### Some of the commonly used libraries by Data Scientists include:\n",
    "1. numpy\n",
    "2. matplotlib\n",
    "3. pandas\n",
    "4. scikit"
   ]
  },
  {
   "cell_type": "markdown",
   "id": "6a0dfc75-bd60-437c-8648-9b1d95cdfab1",
   "metadata": {},
   "source": [
    "| Data Science Tools |\n",
    "|------------------- |\n",
    "| RStudio            |\n",
    "| JupyterLab         |\n",
    "| JupyterNotebook    |"
   ]
  },
  {
   "cell_type": "markdown",
   "id": "7382e4ff-91df-428f-bde0-7f12970b6e59",
   "metadata": {},
   "source": [
    "### Below are a few examples of evaluating arithmetic expressions in Python"
   ]
  },
  {
   "cell_type": "code",
   "execution_count": null,
   "id": "9ed617df-0290-40e6-9e6b-6d854459b044",
   "metadata": {},
   "outputs": [],
   "source": [
    "# This is a simple arithmetic expression to multiply and then add integers\n",
    "(3*4)+5"
   ]
  },
  {
   "cell_type": "code",
   "execution_count": null,
   "id": "15550d82-dd73-4ce9-96b1-6e835e4ef77f",
   "metadata": {},
   "outputs": [],
   "source": [
    "# This will convert 200 minutes to hours by dividing by 60\n",
    "200/60"
   ]
  },
  {
   "cell_type": "markdown",
   "id": "657530d0-1b92-4a2b-af73-f23124c5f5c1",
   "metadata": {},
   "source": [
    "**Objectives:**\n",
    "- C++\n",
    "- python\n",
    "- R\n",
    "- scala"
   ]
  },
  {
   "cell_type": "markdown",
   "id": "2039ee4c-f38b-45a3-8307-2d58e3401222",
   "metadata": {},
   "source": [
    "## Author\n",
    "Kekoa Santana"
   ]
  }
 ],
 "metadata": {
  "kernelspec": {
   "display_name": "Python 3 (ipykernel)",
   "language": "python",
   "name": "python3"
  },
  "language_info": {
   "codemirror_mode": {
    "name": "ipython",
    "version": 3
   },
   "file_extension": ".py",
   "mimetype": "text/x-python",
   "name": "python",
   "nbconvert_exporter": "python",
   "pygments_lexer": "ipython3",
   "version": "3.9.7"
  }
 },
 "nbformat": 4,
 "nbformat_minor": 5
}
