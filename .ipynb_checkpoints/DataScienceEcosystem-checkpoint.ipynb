{
 "cells": [
  {
   "cell_type": "markdown",
   "id": "a6d191f9-1ce5-4b96-a97b-3f6d866c3bd3",
   "metadata": {},
   "source": [
    "## Data Science Tools and Ecosystem"
   ]
  },
  {
   "cell_type": "markdown",
   "id": "9524a215-737c-4135-b88c-5b04b8b5dfed",
   "metadata": {},
   "source": [
    "### In this notebook, Data Science Tools and Ecosystems are summarized."
   ]
  },
  {
   "cell_type": "markdown",
   "id": "13278f74-d6c1-4283-a59d-8a7ff5fd2887",
   "metadata": {},
   "source": [
    "### In this notebook, Data Science Tools and Ecosystems are summarized."
   ]
  },
  {
   "cell_type": "code",
   "execution_count": null,
   "id": "c1797ddd-93d6-4b2f-8ec8-1d54b030265c",
   "metadata": {},
   "outputs": [],
   "source": [
    "### Some of the popular languages that Data Scientists use are:\n",
    "1. Python\n",
    "2. R\n",
    "3. Scala"
   ]
  },
  {
   "cell_type": "code",
   "execution_count": null,
   "id": "95505437-ed06-4318-a7f9-98f777963c98",
   "metadata": {},
   "outputs": [],
   "source": [
    "### Some of the commonly used libraries by Data Scientists include:\n",
    "1. numpy\n",
    "2. matplotlib\n",
    "3. pandas\n",
    "4. scikit"
   ]
  },
  {
   "cell_type": "code",
   "execution_count": null,
   "id": "2d572aa3-3726-4ff8-be3e-f8baf76fb11d",
   "metadata": {},
   "outputs": [],
   "source": [
    "| Data Science Tools |\n",
    "|------------------- |\n",
    "| RStudio            |\n",
    "| JupyterLab         |\n",
    "| JupyterNotebook    |"
   ]
  },
  {
   "cell_type": "code",
   "execution_count": null,
   "id": "6cb11ed7-e668-4c45-9433-3437347b032b",
   "metadata": {},
   "outputs": [],
   "source": [
    "### Below are a few examples of evaluating arithmetic expressions in Python"
   ]
  },
  {
   "cell_type": "code",
   "execution_count": null,
   "id": "9ed617df-0290-40e6-9e6b-6d854459b044",
   "metadata": {},
   "outputs": [],
   "source": [
    "# This is a simple arithmetic expression to multiply and then add integers\n",
    "(3*4)+5"
   ]
  },
  {
   "cell_type": "code",
   "execution_count": null,
   "id": "15550d82-dd73-4ce9-96b1-6e835e4ef77f",
   "metadata": {},
   "outputs": [],
   "source": [
    "# This will convert 200 minutes to hours by dividing by 60\n",
    "200/60"
   ]
  },
  {
   "cell_type": "code",
   "execution_count": null,
   "id": "4bdca61e-81a3-4151-8900-4a00de2b22cf",
   "metadata": {},
   "outputs": [],
   "source": [
    "**Objectives:**\n",
    "- C++\n",
    "- python\n",
    "- R\n",
    "- scala"
   ]
  },
  {
   "cell_type": "code",
   "execution_count": null,
   "id": "f9315bd5-8954-4212-b49b-ce91e381294e",
   "metadata": {},
   "outputs": [],
   "source": [
    "## Author\n",
    "Kekoa Santana"
   ]
  }
 ],
 "metadata": {
  "kernelspec": {
   "display_name": "Python 3 (ipykernel)",
   "language": "python",
   "name": "python3"
  },
  "language_info": {
   "codemirror_mode": {
    "name": "ipython",
    "version": 3
   },
   "file_extension": ".py",
   "mimetype": "text/x-python",
   "name": "python",
   "nbconvert_exporter": "python",
   "pygments_lexer": "ipython3",
   "version": "3.9.7"
  }
 },
 "nbformat": 4,
 "nbformat_minor": 5
}
